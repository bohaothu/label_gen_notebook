{
 "cells": [
  {
   "cell_type": "code",
   "execution_count": 31,
   "id": "eff1a304",
   "metadata": {},
   "outputs": [],
   "source": [
    "import pandas as pd\n",
    "import numpy as np\n",
    "import os\n",
    "import pickle\n",
    "import ujson"
   ]
  },
  {
   "cell_type": "code",
   "execution_count": 17,
   "id": "a47d23b8",
   "metadata": {},
   "outputs": [],
   "source": [
    "dataset_directory=os.path.join(\"..\",\"api\",\"dataset\",\"v3\")"
   ]
  },
  {
   "cell_type": "code",
   "execution_count": 72,
   "id": "12df8b43",
   "metadata": {},
   "outputs": [],
   "source": [
    "X_train = pd.read_pickle(os.path.join(dataset_directory, \"birds\", \"train\", \"feature.pkl\"))\n",
    "#y_train = pd.read_pickle(os.path.join(dataset_directory, \"birds\", \"train\", \"label.pkl\"))\n",
    "\n",
    "X_test = pd.read_pickle(os.path.join(dataset_directory, \"birds_test\", \"train\", \"feature.pkl\"))"
   ]
  },
  {
   "cell_type": "code",
   "execution_count": 37,
   "id": "dd63012b",
   "metadata": {},
   "outputs": [],
   "source": [
    "with open(\"bird_example.json\") as json_file:\n",
    "    filters = ujson.load(json_file)\n",
    "filters = filters[\"filters\"]"
   ]
  },
  {
   "cell_type": "code",
   "execution_count": 40,
   "id": "ff79d19f",
   "metadata": {},
   "outputs": [],
   "source": [
    "points_group1 = filters[0][\"points\"]\n",
    "points_group2 = filters[1][\"points\"]"
   ]
  },
  {
   "cell_type": "markdown",
   "id": "f9710784",
   "metadata": {},
   "source": [
    "## Train binary classifier for `group1`"
   ]
  },
  {
   "cell_type": "code",
   "execution_count": 63,
   "id": "f6d96b44",
   "metadata": {},
   "outputs": [],
   "source": [
    "# prepare data\n",
    "X_train_group1 = X_train.copy(deep=True)\n",
    "X_train_group1[\"y\"] = X_train_group1[\"id\"].apply(lambda x: 1 if x in set(points_group1) else 0)\n",
    "y_train_group1 = X_train_group1.copy(deep=True)[\"y\"]\n",
    "X_train_group1.drop([\"id\",\"y\"],axis=1,inplace=True)"
   ]
  },
  {
   "cell_type": "code",
   "execution_count": 67,
   "id": "9e64a54f",
   "metadata": {},
   "outputs": [],
   "source": [
    "# train binary classifier using svm\n",
    "from sklearn.preprocessing import StandardScaler\n",
    "from sklearn.svm import LinearSVC\n",
    "\n",
    "standardScaler = StandardScaler()\n",
    "standardScaler.fit(X_train_group1)\n",
    "X_standard = standardScaler.transform(X_train_group1)\n",
    "\n",
    "svc = LinearSVC(C=10**9)\n",
    "svc.fit(X_standard, y_train_group1)"
   ]
  },
  {
   "cell_type": "code",
   "execution_count": 73,
   "id": "dce232d4",
   "metadata": {},
   "outputs": [],
   "source": [
    "standardScaler = StandardScaler()\n",
    "standardScaler.fit(X_test.drop([\"id\"],axis=1))\n",
    "X_test_standard = standardScaler.transform(X_test.drop([\"id\"],axis=1))"
   ]
  },
  {
   "cell_type": "code",
   "execution_count": 75,
   "id": "d7807383",
   "metadata": {},
   "outputs": [],
   "source": [
    "y_predict = svc.predict(X_test_standard)"
   ]
  },
  {
   "cell_type": "code",
   "execution_count": 77,
   "id": "8bfa49f6",
   "metadata": {},
   "outputs": [],
   "source": [
    "X_test[\"id\"]=y_predict"
   ]
  },
  {
   "cell_type": "code",
   "execution_count": 86,
   "id": "a9bdbebc",
   "metadata": {},
   "outputs": [
    {
     "name": "stdout",
     "output_type": "stream",
     "text": [
      "['1cb0abfb', '1202ac08', '3e2eba4b', 'd63a291a', '045eb858', '89e0e90e', '956abe60', '631e7f62', '1bcae941', '1b0f4b15', 'eb8a2556', 'bfd14820', '49ff7fcd', '9e461412', '6d37d040', '301ce002', '12845a32', '82625d43', 'ecc92850', '84a9d543', '97b5f5a7', 'b6a3ba52', '4d3779c8', '13651fcd', '12c967f5', 'b3496216', '31e88076', '508ff50e', '75f15d0e', '0263307f', '5cf6b36f', 'f04ee704', 'df298325', 'b23bdf06', 'b800d18d', 'f807deb6', '664efdf6', 'a4bde124', '841be3c2', '707f147a', '11b1c30e', '2967ecb3', 'ade7b277', '221883bb', '628d1af1', 'e0d48bd0', 'bff36627', '97b35cd1', 'b1c963d6', '14c19f52', 'd5b422f1', 'f56c068f', 'c6c5d766', '8a5f1d2c', 'ea8031b3', 'b3783b0b', '5670b4ee', '75d23769', '6bfc1f36', '6f54b80b', '7611c870', 'b56b404a', 'f04a61ec', '567518ec', 'f8a5bc9e', 'd299abaf', '958009f2', 'c298950b', '1c2deadd', '0a06f587', 'ddaad54e', 'a7b9b503', '9fea5410', '8b767434', 'd674cd6c', '2ed55629', 'ef499f41', 'bc2bc5bd', 'f0d614ea', '9961d4ef', '8390cc09', '93676b24', '67495be8', '25fea052', 'c50f8363', '88e343c4', '466da945', '9311a078', 'cb775679', '8af59539', '2799b969', '5daed7cd', 'e388eee8', 'b55f3934', '49ada3ef', '1bda4229', '21dab5d6', 'f8198cca', '7cf724c1', '7c3a1911', '4a637662', '8de01264', 'ff500596', '9decb1e6', '695ce88b', '39dc8469', 'fd3cfb05', '806e360f', '239dc04b', 'bd44ccda', 'e8386412', '08393ef1', '068068b5', 'd5251dff', 'd005c575', '20a98e9e', '4fb32235', 'e07fc844', '24c5f350', '0139f669', 'a5dd1d0f', 'b52e5451', '728a27fe', 'ab16c717', 'e5c30ac1', '4be5e474', '96d7ddf2', '2cc3b7e0', 'bc5257c7', '07bf66a5', '7c470045', '6f849134', '7594791c', 'ec8e2644', '7ed26242', '0319fb7a', '703a35d5', '479d4318', 'fbdb7df9', 'ccec9f60', '814e59c4', '2da00126', '385d4de1', '048d74bb', '9a17ee21', 'd3672532', 'ff9e9464', '5d87e8b5', '9ad119fb', 'ec478dd3', 'bab62b74', 'bd372b03', 'c1374167', 'f6bc2bda', 'd5c12f0a', 'dcf9a3ed', '9a42dbb1', 'b6b087c5', 'b2bf5576', 'b373445d', 'e79407d6', '393eb61e']\n"
     ]
    }
   ],
   "source": [
    "print(str(list(X_test[X_test[\"y_predict\"] == 1].index)))"
   ]
  },
  {
   "cell_type": "code",
   "execution_count": null,
   "id": "bef3d1a3",
   "metadata": {},
   "outputs": [],
   "source": []
  }
 ],
 "metadata": {
  "kernelspec": {
   "display_name": "Python 3 (ipykernel)",
   "language": "python",
   "name": "python3"
  },
  "language_info": {
   "codemirror_mode": {
    "name": "ipython",
    "version": 3
   },
   "file_extension": ".py",
   "mimetype": "text/x-python",
   "name": "python",
   "nbconvert_exporter": "python",
   "pygments_lexer": "ipython3",
   "version": "3.8.9"
  }
 },
 "nbformat": 4,
 "nbformat_minor": 5
}
