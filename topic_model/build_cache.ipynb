{
 "cells": [
  {
   "cell_type": "code",
   "execution_count": 49,
   "id": "16b79bad",
   "metadata": {},
   "outputs": [],
   "source": [
    "import numpy as np\n",
    "import pandas as pd\n",
    "import pymongo"
   ]
  },
  {
   "cell_type": "code",
   "execution_count": 50,
   "id": "7fab1ce7",
   "metadata": {},
   "outputs": [],
   "source": [
    "myclient = pymongo.MongoClient(\"mongodb://119.3.185.83:27017/\")\n",
    "db = myclient[\"bibtex_train\"]\n",
    "db_cache = myclient[\"cache_bibtex_train\"]"
   ]
  },
  {
   "cell_type": "code",
   "execution_count": 45,
   "id": "829355f9",
   "metadata": {},
   "outputs": [],
   "source": [
    "def dict_to_list(DICT):\n",
    "    dictlist = []\n",
    "    for key,value in DICT.items():\n",
    "        dictlist.append({\"key\": key, \"count\": value})\n",
    "    return dictlist"
   ]
  },
  {
   "cell_type": "code",
   "execution_count": 47,
   "id": "6539a5ba",
   "metadata": {},
   "outputs": [
    {
     "data": {
      "text/plain": [
       "<pymongo.results.InsertManyResult at 0x15d9f6100>"
      ]
     },
     "execution_count": 47,
     "metadata": {},
     "output_type": "execute_result"
    }
   ],
   "source": [
    "features = db[\"features\"].find({})\n",
    "z = []\n",
    "for doc in features:\n",
    "    z.append(doc)\n",
    "df = pd.DataFrame(z)\n",
    "df = df.set_index(\"_id\")\n",
    "db_cache[\"none\"].insert_many(dict_to_list(dict(df.sum())))"
   ]
  },
  {
   "cell_type": "code",
   "execution_count": 52,
   "id": "1e8bd75c",
   "metadata": {},
   "outputs": [],
   "source": [
    "fils = db[\"graph_filters\"]\n",
    "for fil in fils.find({}):\n",
    "    query_docs = db[\"labels\"].find(fil[\"query\"])\n",
    "    query_result = [query_doc[\"_id\"] for query_doc in query_docs]\n",
    "    docs=db[\"features\"].find({\"_id\": {\"$in\": query_result}})\n",
    "    z = []\n",
    "    for doc in docs:\n",
    "        z.append(doc)\n",
    "    df = pd.DataFrame(z)\n",
    "    df = df.set_index(\"_id\")\n",
    "    db_cache[str(fil[\"_id\"])].insert_many(dict_to_list(dict(df.sum())))"
   ]
  },
  {
   "cell_type": "code",
   "execution_count": null,
   "id": "07532bbd",
   "metadata": {},
   "outputs": [],
   "source": []
  }
 ],
 "metadata": {
  "kernelspec": {
   "display_name": "Python 3 (ipykernel)",
   "language": "python",
   "name": "python3"
  },
  "language_info": {
   "codemirror_mode": {
    "name": "ipython",
    "version": 3
   },
   "file_extension": ".py",
   "mimetype": "text/x-python",
   "name": "python",
   "nbconvert_exporter": "python",
   "pygments_lexer": "ipython3",
   "version": "3.8.9"
  }
 },
 "nbformat": 4,
 "nbformat_minor": 5
}
