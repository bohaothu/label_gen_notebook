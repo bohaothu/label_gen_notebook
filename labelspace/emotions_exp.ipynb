{
 "cells": [
  {
   "cell_type": "code",
   "execution_count": 1,
   "id": "threaded-berlin",
   "metadata": {},
   "outputs": [],
   "source": [
    "import numpy as np\n",
    "import pandas as pd\n",
    "\n",
    "from skmultilearn.dataset import load_dataset\n",
    "from skmultilearn.problem_transform import BinaryRelevance\n",
    "from skmultilearn.problem_transform import ClassifierChain\n",
    "from skmultilearn.problem_transform import LabelPowerset\n",
    "from skmultilearn.adapt import BRkNNaClassifier\n",
    "from skmultilearn.adapt import MLkNN\n",
    "from sklearn.naive_bayes import GaussianNB\n",
    "from skmultilearn.ensemble import RakelD\n",
    "\n",
    "from sklearn.svm import SVC\n",
    "\n",
    "import sklearn.metrics as metrics\n",
    "import scipy.sparse as sparse\n",
    "\n",
    "import copy"
   ]
  },
  {
   "cell_type": "markdown",
   "id": "divided-moses",
   "metadata": {},
   "source": [
    "## Import Dataset"
   ]
  },
  {
   "cell_type": "code",
   "execution_count": 2,
   "id": "distinguished-lebanon",
   "metadata": {},
   "outputs": [
    {
     "name": "stdout",
     "output_type": "stream",
     "text": [
      "emotions:train - exists, not redownloading\n",
      "emotions:test - exists, not redownloading\n"
     ]
    }
   ],
   "source": [
    "X_train, y_train, feature_names, label_names = load_dataset('emotions', 'train')\n",
    "X_test, y_test, _, _ = load_dataset('emotions', 'test')"
   ]
  },
  {
   "cell_type": "markdown",
   "id": "unknown-porter",
   "metadata": {},
   "source": [
    "## Determine a Model\n",
    "\n",
    "Rakel: http://scikit.ml/api/skmultilearn.ensemble.rakeld.html#skmultilearn.ensemble.RakelD"
   ]
  },
  {
   "cell_type": "code",
   "execution_count": 3,
   "id": "extended-sellers",
   "metadata": {},
   "outputs": [
    {
     "ename": "SyntaxError",
     "evalue": "unexpected EOF while parsing (<ipython-input-3-e5ed1ee73d4b>, line 10)",
     "output_type": "error",
     "traceback": [
      "\u001b[0;36m  File \u001b[0;32m\"<ipython-input-3-e5ed1ee73d4b>\"\u001b[0;36m, line \u001b[0;32m10\u001b[0m\n\u001b[0;31m    #)\u001b[0m\n\u001b[0m      ^\u001b[0m\n\u001b[0;31mSyntaxError\u001b[0m\u001b[0;31m:\u001b[0m unexpected EOF while parsing\n"
     ]
    }
   ],
   "source": [
    "#clf = BinaryRelevance(classifier=SVC(), require_dense=None)\n",
    "#clf = ClassifierChain(classifier=SVC(), require_dense=None)\n",
    "#clf = LabelPowerset(classifier=SVC(), require_dense=None)\n",
    "clf = BRkNNaClassifier(k=3)\n",
    "#clf = MLkNN(k=5)\n",
    "clf = RakelD(\n",
    "#    base_classifier=GaussianNB(),\n",
    "#    base_classifier_require_dense=[True, True],\n",
    "#    labelset_size=4\n",
    "#)"
   ]
  },
  {
   "cell_type": "markdown",
   "id": "favorite-change",
   "metadata": {},
   "source": [
    "## Transform Results"
   ]
  },
  {
   "cell_type": "code",
   "execution_count": null,
   "id": "breathing-butler",
   "metadata": {},
   "outputs": [],
   "source": [
    "def trans_result(y_testing, pred):\n",
    "    col_count = y_testing.shape[1]\n",
    "    y_test_df = pd.DataFrame(y_testing.todense(),columns=[\"L\" + str(x+1) for x in range(col_count)])\n",
    "    pred_df = pd.DataFrame(pred.todense(),columns=[\"L\" + str(x+1) for x in range(col_count)])\n",
    "    z=[]\n",
    "    for col in y_test_df.columns:\n",
    "        z.append({\"name\": col,\n",
    "              \"precision\": metrics.precision_score(y_test_df[col], pred_df[col]),\n",
    "              \"recall\": metrics.precision_score(y_test_df[col], pred_df[col]),\n",
    "              \"f1\": metrics.f1_score(y_test_df[col], pred_df[col])})\n",
    "    return pd.DataFrame(z)"
   ]
  },
  {
   "cell_type": "code",
   "execution_count": null,
   "id": "united-march",
   "metadata": {},
   "outputs": [],
   "source": [
    "prediction = clf.fit(X_train, y_train).predict(X_test)\n",
    "result_df = trans_result(y_test,prediction)\n",
    "result_df"
   ]
  },
  {
   "cell_type": "markdown",
   "id": "incident-gallery",
   "metadata": {},
   "source": [
    "## Exp1 : Remove an label and retrain"
   ]
  },
  {
   "cell_type": "code",
   "execution_count": null,
   "id": "strategic-class",
   "metadata": {},
   "outputs": [],
   "source": [
    "def remove_a_label(dataset, index):\n",
    "    dataset = dataset.todense()\n",
    "    j=[]\n",
    "    for ele in dataset:\n",
    "        j.append(np.delete(ele,2))\n",
    "    return sparse.lil_matrix(np.array(j))"
   ]
  },
  {
   "cell_type": "code",
   "execution_count": null,
   "id": "realistic-spider",
   "metadata": {},
   "outputs": [],
   "source": [
    "y_train_1 = remove_a_label(copy.deepcopy(y_train),2)\n",
    "y_test_1 = remove_a_label(copy.deepcopy(y_test),2)"
   ]
  },
  {
   "cell_type": "code",
   "execution_count": null,
   "id": "narrow-mediterranean",
   "metadata": {},
   "outputs": [],
   "source": [
    "prediction_1 = clf.fit(X_train, y_train_1).predict(X_test)\n",
    "result_df_1 = trans_result(y_test_1,prediction_1)\n",
    "result_df_1"
   ]
  },
  {
   "cell_type": "markdown",
   "id": "expanded-foundation",
   "metadata": {},
   "source": [
    "## Exp2: Add an label and retrain"
   ]
  },
  {
   "cell_type": "code",
   "execution_count": null,
   "id": "composite-flour",
   "metadata": {},
   "outputs": [],
   "source": [
    "def add_a_label(dataset):\n",
    "    dataset = dataset.todense()\n",
    "    j=[]\n",
    "    for ele in dataset:\n",
    "        new_label = 1 if np.random.rand() > 0.5 else 0\n",
    "        j.append(np.append(np.array(ele),new_label))\n",
    "    return sparse.lil_matrix(np.array(j))"
   ]
  },
  {
   "cell_type": "code",
   "execution_count": null,
   "id": "indonesian-belief",
   "metadata": {},
   "outputs": [],
   "source": [
    "y_train_2 = add_a_label(copy.deepcopy(y_train))\n",
    "y_test_2 = add_a_label(copy.deepcopy(y_test))"
   ]
  },
  {
   "cell_type": "code",
   "execution_count": null,
   "id": "breeding-ivory",
   "metadata": {},
   "outputs": [],
   "source": [
    "prediction_2 = clf.fit(X_train, y_train_2).predict(X_test)\n",
    "result_df_2 = trans_result(y_test_2,prediction_2)\n",
    "result_df_2"
   ]
  },
  {
   "cell_type": "code",
   "execution_count": null,
   "id": "palestinian-mapping",
   "metadata": {},
   "outputs": [],
   "source": []
  },
  {
   "cell_type": "code",
   "execution_count": null,
   "id": "infinite-forty",
   "metadata": {},
   "outputs": [],
   "source": []
  }
 ],
 "metadata": {
  "kernelspec": {
   "display_name": "Python 3",
   "language": "python",
   "name": "python3"
  },
  "language_info": {
   "codemirror_mode": {
    "name": "ipython",
    "version": 3
   },
   "file_extension": ".py",
   "mimetype": "text/x-python",
   "name": "python",
   "nbconvert_exporter": "python",
   "pygments_lexer": "ipython3",
   "version": "3.8.2"
  }
 },
 "nbformat": 4,
 "nbformat_minor": 5
}
