{
 "cells": [
  {
   "cell_type": "code",
   "execution_count": 1,
   "id": "technical-portrait",
   "metadata": {},
   "outputs": [],
   "source": [
    "import numpy as np\n",
    "import pandas as pd\n",
    "from skmultilearn.dataset import load_dataset\n",
    "import sklearn.metrics as metrics\n",
    "import scipy.sparse as sparse\n",
    "import seaborn as sns\n",
    "from matplotlib import rcParams\n",
    "\n",
    "# figure size in inches\n",
    "rcParams['figure.figsize'] = 11.7,8.27"
   ]
  },
  {
   "cell_type": "code",
   "execution_count": 4,
   "id": "material-tulsa",
   "metadata": {},
   "outputs": [
    {
     "name": "stdout",
     "output_type": "stream",
     "text": [
      "birds:train - exists, not redownloading\n",
      "birds:test - exists, not redownloading\n"
     ]
    }
   ],
   "source": [
    "X_train, y_train, feature_names, label_names = load_dataset(\"birds\", 'train')\n",
    "X_test, y_test, _, _ = load_dataset(\"birds\", 'test')"
   ]
  },
  {
   "cell_type": "code",
   "execution_count": 5,
   "id": "public-georgia",
   "metadata": {},
   "outputs": [
    {
     "data": {
      "text/plain": [
       "(89, 19)"
      ]
     },
     "execution_count": 5,
     "metadata": {},
     "output_type": "execute_result"
    }
   ],
   "source": [
    "label_kind=np.unique(y_train.todense(),axis=0)\n",
    "np.shape(label_kind)"
   ]
  },
  {
   "cell_type": "code",
   "execution_count": 6,
   "id": "smart-philippines",
   "metadata": {},
   "outputs": [
    {
     "name": "stderr",
     "output_type": "stream",
     "text": [
      "/Users/phl/Library/Python/3.8/lib/python/site-packages/skmultilearn/cluster/matrix.py:81: VisibleDeprecationWarning: Creating an ndarray from ragged nested sequences (which is a list-or-tuple of lists-or-tuples-or ndarrays with different lengths or shapes) is deprecated. If you meant to do this, you must specify 'dtype=object' when creating the ndarray.\n",
      "  return np.array(_membership_to_list_of_communities(result, 1 + max(result)))\n"
     ]
    }
   ],
   "source": [
    "from sklearn.ensemble import RandomForestClassifier\n",
    "from sklearn.cluster import KMeans\n",
    "from skmultilearn.problem_transform import LabelPowerset\n",
    "from skmultilearn.cluster import MatrixLabelSpaceClusterer\n",
    "from skmultilearn.ensemble import LabelSpacePartitioningClassifier\n",
    "\n",
    "# construct base forest classifier\n",
    "base_classifier = RandomForestClassifier(n_estimators=1030)\n",
    "\n",
    "# setup problem transformation approach with sparse matrices for random forest\n",
    "problem_transform_classifier = LabelPowerset(classifier=base_classifier,\n",
    "    require_dense=[False, False])\n",
    "\n",
    "# setup the clusterer\n",
    "clusterer = MatrixLabelSpaceClusterer(clusterer=KMeans(n_clusters=3))\n",
    "\n",
    "# setup the ensemble metaclassifier\n",
    "classifier = LabelSpacePartitioningClassifier(problem_transform_classifier, clusterer)\n",
    "\n",
    "# train\n",
    "classifier.fit(X_train, y_train)\n",
    "\n",
    "# predict\n",
    "predictions = classifier.predict(X_test)"
   ]
  },
  {
   "cell_type": "code",
   "execution_count": 7,
   "id": "convenient-stretch",
   "metadata": {},
   "outputs": [],
   "source": [
    "def trans_result(y_testing, pred):\n",
    "    col_count = y_testing.shape[1]\n",
    "    y_test_df = pd.DataFrame(y_testing.todense(),columns=[label_names[x][0] for x in range(col_count)])\n",
    "    pred_df = pd.DataFrame(pred.todense(),columns=[label_names[x][0] for x in range(col_count)])\n",
    "    z=[]\n",
    "    for col in y_test_df.columns:\n",
    "        z.append({\"name\": col,\n",
    "              \"precision\": metrics.precision_score(y_test_df[col], pred_df[col]),\n",
    "              \"recall\": metrics.recall_score(y_test_df[col], pred_df[col]),\n",
    "              \"accuracy\": metrics.accuracy_score(y_test_df[col], pred_df[col]),\n",
    "              \"f1\": metrics.f1_score(y_test_df[col], pred_df[col])})\n",
    "    return pd.DataFrame(z)"
   ]
  },
  {
   "cell_type": "code",
   "execution_count": 8,
   "id": "dramatic-government",
   "metadata": {},
   "outputs": [
    {
     "name": "stderr",
     "output_type": "stream",
     "text": [
      "/Users/phl/Library/Python/3.8/lib/python/site-packages/sklearn/metrics/_classification.py:1245: UndefinedMetricWarning: Precision is ill-defined and being set to 0.0 due to no predicted samples. Use `zero_division` parameter to control this behavior.\n",
      "  _warn_prf(average, modifier, msg_start, len(result))\n"
     ]
    },
    {
     "data": {
      "text/html": [
       "<div>\n",
       "<style scoped>\n",
       "    .dataframe tbody tr th:only-of-type {\n",
       "        vertical-align: middle;\n",
       "    }\n",
       "\n",
       "    .dataframe tbody tr th {\n",
       "        vertical-align: top;\n",
       "    }\n",
       "\n",
       "    .dataframe thead th {\n",
       "        text-align: right;\n",
       "    }\n",
       "</style>\n",
       "<table border=\"1\" class=\"dataframe\">\n",
       "  <thead>\n",
       "    <tr style=\"text-align: right;\">\n",
       "      <th></th>\n",
       "      <th>name</th>\n",
       "      <th>precision</th>\n",
       "      <th>recall</th>\n",
       "      <th>accuracy</th>\n",
       "      <th>f1</th>\n",
       "    </tr>\n",
       "  </thead>\n",
       "  <tbody>\n",
       "    <tr>\n",
       "      <th>0</th>\n",
       "      <td>Brown Creeper</td>\n",
       "      <td>1.000000</td>\n",
       "      <td>0.285714</td>\n",
       "      <td>0.984520</td>\n",
       "      <td>0.444444</td>\n",
       "    </tr>\n",
       "    <tr>\n",
       "      <th>1</th>\n",
       "      <td>Pacific Wren</td>\n",
       "      <td>1.000000</td>\n",
       "      <td>0.391304</td>\n",
       "      <td>0.913313</td>\n",
       "      <td>0.562500</td>\n",
       "    </tr>\n",
       "    <tr>\n",
       "      <th>2</th>\n",
       "      <td>Pacific-slope Flycatcher</td>\n",
       "      <td>0.285714</td>\n",
       "      <td>0.080000</td>\n",
       "      <td>0.913313</td>\n",
       "      <td>0.125000</td>\n",
       "    </tr>\n",
       "    <tr>\n",
       "      <th>3</th>\n",
       "      <td>Red-breasted Nuthatch</td>\n",
       "      <td>0.000000</td>\n",
       "      <td>0.000000</td>\n",
       "      <td>0.984520</td>\n",
       "      <td>0.000000</td>\n",
       "    </tr>\n",
       "    <tr>\n",
       "      <th>4</th>\n",
       "      <td>Dark-eyed Junco</td>\n",
       "      <td>0.500000</td>\n",
       "      <td>0.142857</td>\n",
       "      <td>0.978328</td>\n",
       "      <td>0.222222</td>\n",
       "    </tr>\n",
       "    <tr>\n",
       "      <th>5</th>\n",
       "      <td>Olive-sided Flycatcher</td>\n",
       "      <td>0.571429</td>\n",
       "      <td>0.666667</td>\n",
       "      <td>0.984520</td>\n",
       "      <td>0.615385</td>\n",
       "    </tr>\n",
       "    <tr>\n",
       "      <th>6</th>\n",
       "      <td>Hermit Thrush</td>\n",
       "      <td>0.666667</td>\n",
       "      <td>0.272727</td>\n",
       "      <td>0.941176</td>\n",
       "      <td>0.387097</td>\n",
       "    </tr>\n",
       "    <tr>\n",
       "      <th>7</th>\n",
       "      <td>Chestnut-backed Chickadee</td>\n",
       "      <td>0.500000</td>\n",
       "      <td>0.111111</td>\n",
       "      <td>0.944272</td>\n",
       "      <td>0.181818</td>\n",
       "    </tr>\n",
       "    <tr>\n",
       "      <th>8</th>\n",
       "      <td>Varied Thrush</td>\n",
       "      <td>0.904762</td>\n",
       "      <td>0.593750</td>\n",
       "      <td>0.953560</td>\n",
       "      <td>0.716981</td>\n",
       "    </tr>\n",
       "    <tr>\n",
       "      <th>9</th>\n",
       "      <td>Hermit Warbler</td>\n",
       "      <td>1.000000</td>\n",
       "      <td>0.250000</td>\n",
       "      <td>0.934985</td>\n",
       "      <td>0.400000</td>\n",
       "    </tr>\n",
       "    <tr>\n",
       "      <th>10</th>\n",
       "      <td>Swainson\\'s Thrush</td>\n",
       "      <td>0.782609</td>\n",
       "      <td>0.461538</td>\n",
       "      <td>0.919505</td>\n",
       "      <td>0.580645</td>\n",
       "    </tr>\n",
       "    <tr>\n",
       "      <th>11</th>\n",
       "      <td>Hammond\\'s Flycatcher</td>\n",
       "      <td>1.000000</td>\n",
       "      <td>0.187500</td>\n",
       "      <td>0.959752</td>\n",
       "      <td>0.315789</td>\n",
       "    </tr>\n",
       "    <tr>\n",
       "      <th>12</th>\n",
       "      <td>Western Tanager</td>\n",
       "      <td>1.000000</td>\n",
       "      <td>0.200000</td>\n",
       "      <td>0.962848</td>\n",
       "      <td>0.333333</td>\n",
       "    </tr>\n",
       "    <tr>\n",
       "      <th>13</th>\n",
       "      <td>Black-headed Grosbeak</td>\n",
       "      <td>0.500000</td>\n",
       "      <td>0.333333</td>\n",
       "      <td>0.990712</td>\n",
       "      <td>0.400000</td>\n",
       "    </tr>\n",
       "    <tr>\n",
       "      <th>14</th>\n",
       "      <td>Golden Crowned Kinglet</td>\n",
       "      <td>1.000000</td>\n",
       "      <td>0.526316</td>\n",
       "      <td>0.972136</td>\n",
       "      <td>0.689655</td>\n",
       "    </tr>\n",
       "    <tr>\n",
       "      <th>15</th>\n",
       "      <td>Warbling Vireo</td>\n",
       "      <td>0.333333</td>\n",
       "      <td>0.111111</td>\n",
       "      <td>0.969040</td>\n",
       "      <td>0.166667</td>\n",
       "    </tr>\n",
       "    <tr>\n",
       "      <th>16</th>\n",
       "      <td>MacGillivray\\'s Warbler</td>\n",
       "      <td>0.500000</td>\n",
       "      <td>0.500000</td>\n",
       "      <td>0.993808</td>\n",
       "      <td>0.500000</td>\n",
       "    </tr>\n",
       "    <tr>\n",
       "      <th>17</th>\n",
       "      <td>Stellar\\'s Jay</td>\n",
       "      <td>0.000000</td>\n",
       "      <td>0.000000</td>\n",
       "      <td>0.984520</td>\n",
       "      <td>0.000000</td>\n",
       "    </tr>\n",
       "    <tr>\n",
       "      <th>18</th>\n",
       "      <td>Common Nighthawk</td>\n",
       "      <td>0.714286</td>\n",
       "      <td>0.500000</td>\n",
       "      <td>0.978328</td>\n",
       "      <td>0.588235</td>\n",
       "    </tr>\n",
       "  </tbody>\n",
       "</table>\n",
       "</div>"
      ],
      "text/plain": [
       "                         name  precision    recall  accuracy        f1\n",
       "0               Brown Creeper   1.000000  0.285714  0.984520  0.444444\n",
       "1                Pacific Wren   1.000000  0.391304  0.913313  0.562500\n",
       "2    Pacific-slope Flycatcher   0.285714  0.080000  0.913313  0.125000\n",
       "3       Red-breasted Nuthatch   0.000000  0.000000  0.984520  0.000000\n",
       "4             Dark-eyed Junco   0.500000  0.142857  0.978328  0.222222\n",
       "5      Olive-sided Flycatcher   0.571429  0.666667  0.984520  0.615385\n",
       "6               Hermit Thrush   0.666667  0.272727  0.941176  0.387097\n",
       "7   Chestnut-backed Chickadee   0.500000  0.111111  0.944272  0.181818\n",
       "8               Varied Thrush   0.904762  0.593750  0.953560  0.716981\n",
       "9              Hermit Warbler   1.000000  0.250000  0.934985  0.400000\n",
       "10         Swainson\\'s Thrush   0.782609  0.461538  0.919505  0.580645\n",
       "11      Hammond\\'s Flycatcher   1.000000  0.187500  0.959752  0.315789\n",
       "12            Western Tanager   1.000000  0.200000  0.962848  0.333333\n",
       "13      Black-headed Grosbeak   0.500000  0.333333  0.990712  0.400000\n",
       "14     Golden Crowned Kinglet   1.000000  0.526316  0.972136  0.689655\n",
       "15             Warbling Vireo   0.333333  0.111111  0.969040  0.166667\n",
       "16    MacGillivray\\'s Warbler   0.500000  0.500000  0.993808  0.500000\n",
       "17             Stellar\\'s Jay   0.000000  0.000000  0.984520  0.000000\n",
       "18           Common Nighthawk   0.714286  0.500000  0.978328  0.588235"
      ]
     },
     "execution_count": 8,
     "metadata": {},
     "output_type": "execute_result"
    }
   ],
   "source": [
    "result_df = trans_result(y_test,predictions)\n",
    "result_df"
   ]
  },
  {
   "cell_type": "code",
   "execution_count": 15,
   "id": "naked-discrimination",
   "metadata": {},
   "outputs": [
    {
     "data": {
      "text/plain": [
       "KMeans(n_clusters=4)"
      ]
     },
     "execution_count": 15,
     "metadata": {},
     "output_type": "execute_result"
    }
   ],
   "source": [
    "from sklearn.cluster import KMeans\n",
    "\n",
    "data_set = pd.DataFrame(y_train.todense(),columns=[label_names[x][0] for x in range(y_train.shape[1])])\n",
    "\n",
    "estimator = KMeans(n_clusters=4)\n",
    "estimator.fit(data_set)"
   ]
  },
  {
   "cell_type": "code",
   "execution_count": 16,
   "id": "identical-importance",
   "metadata": {},
   "outputs": [],
   "source": [
    "from sklearn.manifold import TSNE\n",
    "\n",
    "t_sne = TSNE()\n",
    "t_sne.fit(data_set)\n",
    "t_sne = pd.DataFrame(t_sne.embedding_, index=data_set.index)\n",
    "t_sne.columns=[\"v1\",\"v2\"]\n",
    "t_sne[\"group\"]=estimator.labels_"
   ]
  },
  {
   "cell_type": "code",
   "execution_count": 17,
   "id": "acute-antique",
   "metadata": {},
   "outputs": [
    {
     "data": {
      "text/plain": [
       "<AxesSubplot:xlabel='v1', ylabel='v2'>"
      ]
     },
     "execution_count": 17,
     "metadata": {},
     "output_type": "execute_result"
    },
    {
     "data": {
      "image/png": "[encoded data removed]",
      "text/plain": [
       "<Figure size 842.4x595.44 with 1 Axes>"
      ]
     },
     "metadata": {
      "needs_background": "light"
     },
     "output_type": "display_data"
    }
   ],
   "source": [
    "sns.scatterplot(data=t_sne, x=\"v1\", y=\"v2\",hue=\"group\",palette=\"tab10\")"
   ]
  },
  {
   "cell_type": "markdown",
   "id": "lasting-phase",
   "metadata": {},
   "source": [
    "提供 label space cluster 信息"
   ]
  }
 ],
 "metadata": {
  "kernelspec": {
   "display_name": "Python 3 (ipykernel)",
   "language": "python",
   "name": "python3"
  },
  "language_info": {
   "codemirror_mode": {
    "name": "ipython",
    "version": 3
   },
   "file_extension": ".py",
   "mimetype": "text/x-python",
   "name": "python",
   "nbconvert_exporter": "python",
   "pygments_lexer": "ipython3",
   "version": "3.8.9"
  }
 },
 "nbformat": 4,
 "nbformat_minor": 5
}
