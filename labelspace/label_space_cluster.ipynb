{
 "cells": [
  {
   "cell_type": "code",
   "execution_count": 12,
   "id": "technical-portrait",
   "metadata": {},
   "outputs": [],
   "source": [
    "import numpy as np\n",
    "import pandas as pd\n",
    "from skmultilearn.dataset import load_dataset\n",
    "import sklearn.metrics as metrics\n",
    "import scipy.sparse as sparse\n",
    "import seaborn as sns\n",
    "from matplotlib import rcParams\n",
    "\n",
    "# figure size in inches\n",
    "rcParams['figure.figsize'] = 11.7,8.27"
   ]
  },
  {
   "cell_type": "code",
   "execution_count": 2,
   "id": "instrumental-thread",
   "metadata": {},
   "outputs": [
    {
     "data": {
      "text/html": [
       "<svg  width=\"550\" height=\"55\"><rect x=\"0\" y=\"0\" width=\"55\" height=\"55\" style=\"fill:#1f77b4;stroke-width:2;stroke:rgb(255,255,255)\"/><rect x=\"55\" y=\"0\" width=\"55\" height=\"55\" style=\"fill:#ff7f0e;stroke-width:2;stroke:rgb(255,255,255)\"/><rect x=\"110\" y=\"0\" width=\"55\" height=\"55\" style=\"fill:#2ca02c;stroke-width:2;stroke:rgb(255,255,255)\"/><rect x=\"165\" y=\"0\" width=\"55\" height=\"55\" style=\"fill:#d62728;stroke-width:2;stroke:rgb(255,255,255)\"/><rect x=\"220\" y=\"0\" width=\"55\" height=\"55\" style=\"fill:#9467bd;stroke-width:2;stroke:rgb(255,255,255)\"/><rect x=\"275\" y=\"0\" width=\"55\" height=\"55\" style=\"fill:#8c564b;stroke-width:2;stroke:rgb(255,255,255)\"/><rect x=\"330\" y=\"0\" width=\"55\" height=\"55\" style=\"fill:#e377c2;stroke-width:2;stroke:rgb(255,255,255)\"/><rect x=\"385\" y=\"0\" width=\"55\" height=\"55\" style=\"fill:#7f7f7f;stroke-width:2;stroke:rgb(255,255,255)\"/><rect x=\"440\" y=\"0\" width=\"55\" height=\"55\" style=\"fill:#bcbd22;stroke-width:2;stroke:rgb(255,255,255)\"/><rect x=\"495\" y=\"0\" width=\"55\" height=\"55\" style=\"fill:#17becf;stroke-width:2;stroke:rgb(255,255,255)\"/></svg>"
      ],
      "text/plain": [
       "[(0.12156862745098039, 0.4666666666666667, 0.7058823529411765),\n",
       " (1.0, 0.4980392156862745, 0.054901960784313725),\n",
       " (0.17254901960784313, 0.6274509803921569, 0.17254901960784313),\n",
       " (0.8392156862745098, 0.15294117647058825, 0.1568627450980392),\n",
       " (0.5803921568627451, 0.403921568627451, 0.7411764705882353),\n",
       " (0.5490196078431373, 0.33725490196078434, 0.29411764705882354),\n",
       " (0.8901960784313725, 0.4666666666666667, 0.7607843137254902),\n",
       " (0.4980392156862745, 0.4980392156862745, 0.4980392156862745),\n",
       " (0.7372549019607844, 0.7411764705882353, 0.13333333333333333),\n",
       " (0.09019607843137255, 0.7450980392156863, 0.8117647058823529)]"
      ]
     },
     "execution_count": 2,
     "metadata": {},
     "output_type": "execute_result"
    }
   ],
   "source": [
    "sns.color_palette(\"tab10\")"
   ]
  },
  {
   "cell_type": "code",
   "execution_count": 3,
   "id": "material-tulsa",
   "metadata": {},
   "outputs": [
    {
     "name": "stdout",
     "output_type": "stream",
     "text": [
      "emotions:train - exists, not redownloading\n",
      "emotions:test - exists, not redownloading\n"
     ]
    }
   ],
   "source": [
    "X_train, y_train, feature_names, label_names = load_dataset('emotions', 'train')\n",
    "X_test, y_test, _, _ = load_dataset('emotions', 'test')"
   ]
  },
  {
   "cell_type": "code",
   "execution_count": 4,
   "id": "weird-chosen",
   "metadata": {},
   "outputs": [
    {
     "data": {
      "text/plain": [
       "matrix([[0, 1, 1, 0, 0, 0],\n",
       "        [1, 0, 0, 0, 0, 1],\n",
       "        [0, 1, 0, 0, 0, 1],\n",
       "        ...,\n",
       "        [0, 1, 1, 0, 0, 0],\n",
       "        [0, 0, 0, 1, 1, 0],\n",
       "        [0, 1, 1, 0, 0, 0]])"
      ]
     },
     "execution_count": 4,
     "metadata": {},
     "output_type": "execute_result"
    }
   ],
   "source": [
    "y_train.todense()"
   ]
  },
  {
   "cell_type": "code",
   "execution_count": 5,
   "id": "public-georgia",
   "metadata": {},
   "outputs": [
    {
     "data": {
      "text/plain": [
       "(26, 6)"
      ]
     },
     "execution_count": 5,
     "metadata": {},
     "output_type": "execute_result"
    }
   ],
   "source": [
    "label_kind=np.unique(y_train.todense(),axis=0)\n",
    "np.shape(label_kind)"
   ]
  },
  {
   "cell_type": "code",
   "execution_count": 6,
   "id": "smart-philippines",
   "metadata": {},
   "outputs": [
    {
     "name": "stderr",
     "output_type": "stream",
     "text": [
      "/Users/phl/Library/Python/3.8/lib/python/site-packages/skmultilearn/cluster/matrix.py:81: VisibleDeprecationWarning: Creating an ndarray from ragged nested sequences (which is a list-or-tuple of lists-or-tuples-or ndarrays with different lengths or shapes) is deprecated. If you meant to do this, you must specify 'dtype=object' when creating the ndarray.\n",
      "  return np.array(_membership_to_list_of_communities(result, 1 + max(result)))\n"
     ]
    }
   ],
   "source": [
    "from sklearn.ensemble import RandomForestClassifier\n",
    "from sklearn.cluster import KMeans\n",
    "from skmultilearn.problem_transform import LabelPowerset\n",
    "from skmultilearn.cluster import MatrixLabelSpaceClusterer\n",
    "from skmultilearn.ensemble import LabelSpacePartitioningClassifier\n",
    "\n",
    "# construct base forest classifier\n",
    "base_classifier = RandomForestClassifier(n_estimators=1030)\n",
    "\n",
    "# setup problem transformation approach with sparse matrices for random forest\n",
    "problem_transform_classifier = LabelPowerset(classifier=base_classifier,\n",
    "    require_dense=[False, False])\n",
    "\n",
    "# setup the clusterer\n",
    "clusterer = MatrixLabelSpaceClusterer(clusterer=KMeans(n_clusters=3))\n",
    "\n",
    "# setup the ensemble metaclassifier\n",
    "classifier = LabelSpacePartitioningClassifier(problem_transform_classifier, clusterer)\n",
    "\n",
    "# train\n",
    "classifier.fit(X_train, y_train)\n",
    "\n",
    "# predict\n",
    "predictions = classifier.predict(X_test)"
   ]
  },
  {
   "cell_type": "code",
   "execution_count": 7,
   "id": "convenient-stretch",
   "metadata": {},
   "outputs": [],
   "source": [
    "def trans_result(y_testing, pred):\n",
    "    col_count = y_testing.shape[1]\n",
    "    y_test_df = pd.DataFrame(y_testing.todense(),columns=[label_names[x][0] for x in range(col_count)])\n",
    "    pred_df = pd.DataFrame(pred.todense(),columns=[label_names[x][0] for x in range(col_count)])\n",
    "    z=[]\n",
    "    for col in y_test_df.columns:\n",
    "        z.append({\"name\": col,\n",
    "              \"precision\": metrics.precision_score(y_test_df[col], pred_df[col]),\n",
    "              \"recall\": metrics.recall_score(y_test_df[col], pred_df[col]),\n",
    "              \"accuracy\": metrics.accuracy_score(y_test_df[col], pred_df[col]),\n",
    "              \"f1\": metrics.f1_score(y_test_df[col], pred_df[col])})\n",
    "    return pd.DataFrame(z)"
   ]
  },
  {
   "cell_type": "code",
   "execution_count": 8,
   "id": "dramatic-government",
   "metadata": {},
   "outputs": [
    {
     "data": {
      "text/html": [
       "<div>\n",
       "<style scoped>\n",
       "    .dataframe tbody tr th:only-of-type {\n",
       "        vertical-align: middle;\n",
       "    }\n",
       "\n",
       "    .dataframe tbody tr th {\n",
       "        vertical-align: top;\n",
       "    }\n",
       "\n",
       "    .dataframe thead th {\n",
       "        text-align: right;\n",
       "    }\n",
       "</style>\n",
       "<table border=\"1\" class=\"dataframe\">\n",
       "  <thead>\n",
       "    <tr style=\"text-align: right;\">\n",
       "      <th></th>\n",
       "      <th>name</th>\n",
       "      <th>precision</th>\n",
       "      <th>recall</th>\n",
       "      <th>accuracy</th>\n",
       "      <th>f1</th>\n",
       "    </tr>\n",
       "  </thead>\n",
       "  <tbody>\n",
       "    <tr>\n",
       "      <th>0</th>\n",
       "      <td>amazed-suprised</td>\n",
       "      <td>0.725000</td>\n",
       "      <td>0.537037</td>\n",
       "      <td>0.821782</td>\n",
       "      <td>0.617021</td>\n",
       "    </tr>\n",
       "    <tr>\n",
       "      <th>1</th>\n",
       "      <td>happy-pleased</td>\n",
       "      <td>0.850000</td>\n",
       "      <td>0.288136</td>\n",
       "      <td>0.777228</td>\n",
       "      <td>0.430380</td>\n",
       "    </tr>\n",
       "    <tr>\n",
       "      <th>2</th>\n",
       "      <td>relaxing-calm</td>\n",
       "      <td>0.704545</td>\n",
       "      <td>0.645833</td>\n",
       "      <td>0.702970</td>\n",
       "      <td>0.673913</td>\n",
       "    </tr>\n",
       "    <tr>\n",
       "      <th>3</th>\n",
       "      <td>quiet-still</td>\n",
       "      <td>0.891304</td>\n",
       "      <td>0.694915</td>\n",
       "      <td>0.886139</td>\n",
       "      <td>0.780952</td>\n",
       "    </tr>\n",
       "    <tr>\n",
       "      <th>4</th>\n",
       "      <td>sad-lonely</td>\n",
       "      <td>0.925000</td>\n",
       "      <td>0.506849</td>\n",
       "      <td>0.806931</td>\n",
       "      <td>0.654867</td>\n",
       "    </tr>\n",
       "    <tr>\n",
       "      <th>5</th>\n",
       "      <td>angry-aggresive</td>\n",
       "      <td>0.844444</td>\n",
       "      <td>0.655172</td>\n",
       "      <td>0.866337</td>\n",
       "      <td>0.737864</td>\n",
       "    </tr>\n",
       "  </tbody>\n",
       "</table>\n",
       "</div>"
      ],
      "text/plain": [
       "              name  precision    recall  accuracy        f1\n",
       "0  amazed-suprised   0.725000  0.537037  0.821782  0.617021\n",
       "1    happy-pleased   0.850000  0.288136  0.777228  0.430380\n",
       "2    relaxing-calm   0.704545  0.645833  0.702970  0.673913\n",
       "3      quiet-still   0.891304  0.694915  0.886139  0.780952\n",
       "4       sad-lonely   0.925000  0.506849  0.806931  0.654867\n",
       "5  angry-aggresive   0.844444  0.655172  0.866337  0.737864"
      ]
     },
     "execution_count": 8,
     "metadata": {},
     "output_type": "execute_result"
    }
   ],
   "source": [
    "result_df = trans_result(y_test,predictions)\n",
    "result_df"
   ]
  },
  {
   "cell_type": "code",
   "execution_count": 9,
   "id": "naked-discrimination",
   "metadata": {},
   "outputs": [],
   "source": [
    "from sklearn.cluster import KMeans\n",
    "\n",
    "data_set = pd.DataFrame(y_train.todense(),columns=[label_names[x][0] for x in range(y_train.shape[1])])\n",
    "\n",
    "estimator = KMeans(n_clusters=3)\n",
    "estimator.fit(data_set)\n",
    "\n",
    "r = pd.concat([data_set, pd.Series(estimator.labels_, index=data_set.index)], axis=1)\n",
    "r.columns = list(data_set.columns) + [\"cluster\"]"
   ]
  },
  {
   "cell_type": "code",
   "execution_count": 10,
   "id": "identical-importance",
   "metadata": {},
   "outputs": [],
   "source": [
    "from sklearn.manifold import TSNE\n",
    "\n",
    "t_sne = TSNE()\n",
    "t_sne.fit(data_set)\n",
    "t_sne = pd.DataFrame(t_sne.embedding_, index=data_set.index)\n",
    "t_sne.columns=[\"v1\",\"v2\"]\n",
    "t_sne[\"group\"]=estimator.labels_"
   ]
  },
  {
   "cell_type": "code",
   "execution_count": 11,
   "id": "acute-antique",
   "metadata": {},
   "outputs": [
    {
     "data": {
      "text/plain": [
       "<AxesSubplot:xlabel='v1', ylabel='v2'>"
      ]
     },
     "execution_count": 11,
     "metadata": {},
     "output_type": "execute_result"
    },
    {
     "data": {
      "image/png": "[encoded data removed]",
      "text/plain": [
       "<Figure size 432x288 with 1 Axes>"
      ]
     },
     "metadata": {
      "needs_background": "light"
     },
     "output_type": "display_data"
    }
   ],
   "source": [
    "sns.scatterplot(data=t_sne, x=\"v1\", y=\"v2\",hue=\"group\",palette=\"tab10\")"
   ]
  },
  {
   "cell_type": "code",
   "execution_count": 46,
   "id": "cellular-clarity",
   "metadata": {},
   "outputs": [
    {
     "ename": "ValueError",
     "evalue": "The set CAL500 in variant train does not exist on server.",
     "output_type": "error",
     "traceback": [
      "\u001b[0;31m---------------------------------------------------------------------------\u001b[0m",
      "\u001b[0;31mValueError\u001b[0m                                Traceback (most recent call last)",
      "\u001b[0;32m<ipython-input-46-b2a57ac087a9>\u001b[0m in \u001b[0;36m<module>\u001b[0;34m\u001b[0m\n\u001b[0;32m----> 1\u001b[0;31m \u001b[0mX_train\u001b[0m\u001b[0;34m,\u001b[0m \u001b[0my_train\u001b[0m\u001b[0;34m,\u001b[0m \u001b[0mfeature_names\u001b[0m\u001b[0;34m,\u001b[0m \u001b[0mlabel_names\u001b[0m \u001b[0;34m=\u001b[0m \u001b[0mload_dataset\u001b[0m\u001b[0;34m(\u001b[0m\u001b[0;34m'CAL500'\u001b[0m\u001b[0;34m,\u001b[0m \u001b[0;34m'train'\u001b[0m\u001b[0;34m)\u001b[0m\u001b[0;34m\u001b[0m\u001b[0;34m\u001b[0m\u001b[0m\n\u001b[0m",
      "\u001b[0;32m~/Library/Python/3.8/lib/python/site-packages/skmultilearn/dataset.py\u001b[0m in \u001b[0;36mload_dataset\u001b[0;34m(set_name, variant, data_home)\u001b[0m\n\u001b[1;32m    165\u001b[0m     \"\"\"\n\u001b[1;32m    166\u001b[0m \u001b[0;34m\u001b[0m\u001b[0m\n\u001b[0;32m--> 167\u001b[0;31m     \u001b[0mpath\u001b[0m \u001b[0;34m=\u001b[0m \u001b[0mdownload_dataset\u001b[0m\u001b[0;34m(\u001b[0m\u001b[0mset_name\u001b[0m\u001b[0;34m,\u001b[0m \u001b[0mvariant\u001b[0m\u001b[0;34m,\u001b[0m \u001b[0mdata_home\u001b[0m\u001b[0;34m)\u001b[0m\u001b[0;34m\u001b[0m\u001b[0;34m\u001b[0m\u001b[0m\n\u001b[0m\u001b[1;32m    168\u001b[0m     \u001b[0;32mif\u001b[0m \u001b[0mpath\u001b[0m \u001b[0;32mis\u001b[0m \u001b[0;32mnot\u001b[0m \u001b[0;32mNone\u001b[0m\u001b[0;34m:\u001b[0m\u001b[0;34m\u001b[0m\u001b[0;34m\u001b[0m\u001b[0m\n\u001b[1;32m    169\u001b[0m         \u001b[0;32mreturn\u001b[0m \u001b[0mload_dataset_dump\u001b[0m\u001b[0;34m(\u001b[0m\u001b[0mpath\u001b[0m\u001b[0;34m)\u001b[0m\u001b[0;34m\u001b[0m\u001b[0;34m\u001b[0m\u001b[0m\n",
      "\u001b[0;32m~/Library/Python/3.8/lib/python/site-packages/skmultilearn/dataset.py\u001b[0m in \u001b[0;36mdownload_dataset\u001b[0;34m(set_name, variant, data_home)\u001b[0m\n\u001b[1;32m    116\u001b[0m     \u001b[0mdata_sets\u001b[0m \u001b[0;34m=\u001b[0m \u001b[0mavailable_data_sets\u001b[0m\u001b[0;34m(\u001b[0m\u001b[0;34m)\u001b[0m\u001b[0;34m\u001b[0m\u001b[0;34m\u001b[0m\u001b[0m\n\u001b[1;32m    117\u001b[0m     \u001b[0;32mif\u001b[0m \u001b[0;34m(\u001b[0m\u001b[0mset_name\u001b[0m\u001b[0;34m,\u001b[0m \u001b[0mvariant\u001b[0m\u001b[0;34m)\u001b[0m \u001b[0;32mnot\u001b[0m \u001b[0;32min\u001b[0m \u001b[0mdata_sets\u001b[0m\u001b[0;34m:\u001b[0m\u001b[0;34m\u001b[0m\u001b[0;34m\u001b[0m\u001b[0m\n\u001b[0;32m--> 118\u001b[0;31m         \u001b[0;32mraise\u001b[0m \u001b[0mValueError\u001b[0m\u001b[0;34m(\u001b[0m\u001b[0;34m'The set {} in variant {} does not exist on server.'\u001b[0m\u001b[0;34m.\u001b[0m\u001b[0mformat\u001b[0m\u001b[0;34m(\u001b[0m\u001b[0mset_name\u001b[0m\u001b[0;34m,\u001b[0m \u001b[0mvariant\u001b[0m\u001b[0;34m)\u001b[0m\u001b[0;34m)\u001b[0m\u001b[0;34m\u001b[0m\u001b[0;34m\u001b[0m\u001b[0m\n\u001b[0m\u001b[1;32m    119\u001b[0m \u001b[0;34m\u001b[0m\u001b[0m\n\u001b[1;32m    120\u001b[0m     \u001b[0mmd5\u001b[0m\u001b[0;34m,\u001b[0m \u001b[0mname\u001b[0m \u001b[0;34m=\u001b[0m \u001b[0mdata_sets\u001b[0m\u001b[0;34m[\u001b[0m\u001b[0mset_name\u001b[0m\u001b[0;34m,\u001b[0m \u001b[0mvariant\u001b[0m\u001b[0;34m]\u001b[0m\u001b[0;34m\u001b[0m\u001b[0;34m\u001b[0m\u001b[0m\n",
      "\u001b[0;31mValueError\u001b[0m: The set CAL500 in variant train does not exist on server."
     ]
    }
   ],
   "source": [
    "X_train, y_train, feature_names, label_names = load_dataset('CAL500', 'train')"
   ]
  },
  {
   "cell_type": "markdown",
   "id": "lasting-phase",
   "metadata": {},
   "source": [
    "提供 label space cluster 信息"
   ]
  }
 ],
 "metadata": {
  "kernelspec": {
   "display_name": "Python 3 (ipykernel)",
   "language": "python",
   "name": "python3"
  },
  "language_info": {
   "codemirror_mode": {
    "name": "ipython",
    "version": 3
   },
   "file_extension": ".py",
   "mimetype": "text/x-python",
   "name": "python",
   "nbconvert_exporter": "python",
   "pygments_lexer": "ipython3",
   "version": "3.8.9"
  }
 },
 "nbformat": 4,
 "nbformat_minor": 5
}
