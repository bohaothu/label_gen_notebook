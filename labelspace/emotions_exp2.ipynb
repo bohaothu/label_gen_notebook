{
 "cells": [
  {
   "cell_type": "code",
   "execution_count": 1,
   "id": "threaded-berlin",
   "metadata": {},
   "outputs": [],
   "source": [
    "import numpy as np\n",
    "import pandas as pd\n",
    "\n",
    "from skmultilearn.dataset import load_dataset\n",
    "from skmultilearn.problem_transform import BinaryRelevance\n",
    "from skmultilearn.problem_transform import ClassifierChain\n",
    "from skmultilearn.problem_transform import LabelPowerset\n",
    "from skmultilearn.adapt import BRkNNaClassifier\n",
    "from skmultilearn.adapt import MLkNN\n",
    "from sklearn.naive_bayes import GaussianNB\n",
    "from skmultilearn.ensemble import RakelD\n",
    "\n",
    "from sklearn.svm import SVC\n",
    "from sklearn.ensemble import RandomForestClassifier\n",
    "\n",
    "import sklearn.metrics as metrics\n",
    "import scipy.sparse as sparse\n",
    "\n",
    "import copy\n",
    "\n",
    "import matplotlib.pyplot as plt\n",
    "import seaborn as sns"
   ]
  },
  {
   "cell_type": "code",
   "execution_count": 2,
   "id": "recreational-joyce",
   "metadata": {},
   "outputs": [],
   "source": [
    "sns.set_theme(style=\"whitegrid\")"
   ]
  },
  {
   "cell_type": "code",
   "execution_count": 10,
   "id": "split-jamaica",
   "metadata": {},
   "outputs": [],
   "source": [
    "def trans_result(y_testing, pred):\n",
    "    col_count = y_testing.shape[1]\n",
    "    y_test_df = pd.DataFrame(y_testing.todense(),columns=[label_names[x][0] for x in range(col_count)])\n",
    "    pred_df = pd.DataFrame(pred.todense(),columns=[label_names[x][0] for x in range(col_count)])\n",
    "    z=[]\n",
    "    for col in y_test_df.columns:\n",
    "        z.append({\"name\": col,\n",
    "              \"precision\": metrics.precision_score(y_test_df[col], pred_df[col]),\n",
    "              \"recall\": metrics.recall_score(y_test_df[col], pred_df[col]),\n",
    "              \"accuracy\": metrics.accuracy_score(y_test_df[col], pred_df[col]),\n",
    "              \"f1\": metrics.f1_score(y_test_df[col], pred_df[col])})\n",
    "    return pd.DataFrame(z)\n",
    "\n",
    "def feature_filter(X_training, X_testing, filter_arr):\n",
    "    x_training_new = np.array([np.array(item)[0][filter_arr] for item in X_training.todense()])\n",
    "    x_testing_new = np.array([np.array(item)[0][filter_arr] for item in X_testing.todense()])\n",
    "    return x_training_new, x_testing_new"
   ]
  },
  {
   "cell_type": "markdown",
   "id": "accepted-comparative",
   "metadata": {},
   "source": [
    "## Import Data"
   ]
  },
  {
   "cell_type": "code",
   "execution_count": 11,
   "id": "distinguished-lebanon",
   "metadata": {},
   "outputs": [
    {
     "name": "stdout",
     "output_type": "stream",
     "text": [
      "emotions:train - exists, not redownloading\n",
      "emotions:test - exists, not redownloading\n"
     ]
    }
   ],
   "source": [
    "X_train, y_train, feature_names, label_names = load_dataset('emotions', 'train')\n",
    "X_test, y_test, _, _ = load_dataset('emotions', 'test')"
   ]
  },
  {
   "cell_type": "code",
   "execution_count": 9,
   "id": "dramatic-daisy",
   "metadata": {},
   "outputs": [
    {
     "data": {
      "text/plain": [
       "'amazed-suprised'"
      ]
     },
     "execution_count": 9,
     "metadata": {},
     "output_type": "execute_result"
    }
   ],
   "source": [
    "label_names[0][0]"
   ]
  },
  {
   "cell_type": "markdown",
   "id": "million-carry",
   "metadata": {},
   "source": [
    "## Select `base classifier` and `label classifier`"
   ]
  },
  {
   "cell_type": "code",
   "execution_count": 12,
   "id": "breathing-butler",
   "metadata": {},
   "outputs": [],
   "source": [
    "base_clf = RandomForestClassifier(n_estimators=100)"
   ]
  },
  {
   "cell_type": "code",
   "execution_count": 13,
   "id": "juvenile-science",
   "metadata": {},
   "outputs": [],
   "source": [
    "clf = LabelPowerset(classifier=base_clf, require_dense=None)"
   ]
  },
  {
   "cell_type": "code",
   "execution_count": 14,
   "id": "united-march",
   "metadata": {},
   "outputs": [
    {
     "data": {
      "text/html": [
       "<div>\n",
       "<style scoped>\n",
       "    .dataframe tbody tr th:only-of-type {\n",
       "        vertical-align: middle;\n",
       "    }\n",
       "\n",
       "    .dataframe tbody tr th {\n",
       "        vertical-align: top;\n",
       "    }\n",
       "\n",
       "    .dataframe thead th {\n",
       "        text-align: right;\n",
       "    }\n",
       "</style>\n",
       "<table border=\"1\" class=\"dataframe\">\n",
       "  <thead>\n",
       "    <tr style=\"text-align: right;\">\n",
       "      <th></th>\n",
       "      <th>name</th>\n",
       "      <th>precision</th>\n",
       "      <th>recall</th>\n",
       "      <th>accuracy</th>\n",
       "      <th>f1</th>\n",
       "    </tr>\n",
       "  </thead>\n",
       "  <tbody>\n",
       "    <tr>\n",
       "      <th>0</th>\n",
       "      <td>amazed-suprised</td>\n",
       "      <td>0.593220</td>\n",
       "      <td>0.648148</td>\n",
       "      <td>0.787129</td>\n",
       "      <td>0.619469</td>\n",
       "    </tr>\n",
       "    <tr>\n",
       "      <th>1</th>\n",
       "      <td>happy-pleased</td>\n",
       "      <td>0.596154</td>\n",
       "      <td>0.525424</td>\n",
       "      <td>0.757426</td>\n",
       "      <td>0.558559</td>\n",
       "    </tr>\n",
       "    <tr>\n",
       "      <th>2</th>\n",
       "      <td>relaxing-calm</td>\n",
       "      <td>0.706422</td>\n",
       "      <td>0.802083</td>\n",
       "      <td>0.747525</td>\n",
       "      <td>0.751220</td>\n",
       "    </tr>\n",
       "    <tr>\n",
       "      <th>3</th>\n",
       "      <td>quiet-still</td>\n",
       "      <td>0.746269</td>\n",
       "      <td>0.847458</td>\n",
       "      <td>0.871287</td>\n",
       "      <td>0.793651</td>\n",
       "    </tr>\n",
       "    <tr>\n",
       "      <th>4</th>\n",
       "      <td>sad-lonely</td>\n",
       "      <td>0.807018</td>\n",
       "      <td>0.630137</td>\n",
       "      <td>0.811881</td>\n",
       "      <td>0.707692</td>\n",
       "    </tr>\n",
       "    <tr>\n",
       "      <th>5</th>\n",
       "      <td>angry-aggresive</td>\n",
       "      <td>0.693333</td>\n",
       "      <td>0.896552</td>\n",
       "      <td>0.856436</td>\n",
       "      <td>0.781955</td>\n",
       "    </tr>\n",
       "  </tbody>\n",
       "</table>\n",
       "</div>"
      ],
      "text/plain": [
       "              name  precision    recall  accuracy        f1\n",
       "0  amazed-suprised   0.593220  0.648148  0.787129  0.619469\n",
       "1    happy-pleased   0.596154  0.525424  0.757426  0.558559\n",
       "2    relaxing-calm   0.706422  0.802083  0.747525  0.751220\n",
       "3      quiet-still   0.746269  0.847458  0.871287  0.793651\n",
       "4       sad-lonely   0.807018  0.630137  0.811881  0.707692\n",
       "5  angry-aggresive   0.693333  0.896552  0.856436  0.781955"
      ]
     },
     "execution_count": 14,
     "metadata": {},
     "output_type": "execute_result"
    }
   ],
   "source": [
    "prediction = clf.fit(X_train, y_train).predict(X_test)\n",
    "result_df = trans_result(y_test,prediction)\n",
    "result_df"
   ]
  },
  {
   "cell_type": "markdown",
   "id": "studied-lying",
   "metadata": {},
   "source": [
    "## Show feature importances"
   ]
  },
  {
   "cell_type": "code",
   "execution_count": null,
   "id": "protecting-tiger",
   "metadata": {},
   "outputs": [],
   "source": [
    "impt = base_clf.feature_importances_\n",
    "impt_df=pd.DataFrame([{\"feature\": item[0], \"impt\": item[1]} for item in zip(range(72),impt)])\n",
    "plt.figure(figsize=(16, 10))\n",
    "sns.barplot(x=\"feature\",y=\"impt\",data=impt_df)"
   ]
  },
  {
   "cell_type": "code",
   "execution_count": null,
   "id": "personalized-words",
   "metadata": {},
   "outputs": [],
   "source": [
    "sns.barplot(x=\"feature\",y=\"impt\",data=impt_df[impt_df[\"impt\"] >= 0.0175])"
   ]
  },
  {
   "cell_type": "code",
   "execution_count": null,
   "id": "alternate-defeat",
   "metadata": {},
   "outputs": [],
   "source": [
    "for item in impt_df[impt_df[\"impt\"] >= 0.0175][\"feature\"]:\n",
    "    print(feature_names[item][0])"
   ]
  },
  {
   "cell_type": "markdown",
   "id": "behind-shareware",
   "metadata": {},
   "source": [
    "## Apply only important features and retrain"
   ]
  },
  {
   "cell_type": "markdown",
   "id": "greenhouse-campbell",
   "metadata": {},
   "source": [
    "### Use all features"
   ]
  },
  {
   "cell_type": "code",
   "execution_count": null,
   "id": "challenging-toilet",
   "metadata": {
    "scrolled": true
   },
   "outputs": [],
   "source": [
    "prediction = clf.fit(X_train, y_train).predict(X_test)\n",
    "result_df = trans_result(y_test,prediction)\n",
    "result_df"
   ]
  },
  {
   "cell_type": "markdown",
   "id": "original-penny",
   "metadata": {},
   "source": [
    "### Importance >= 0.015 , 26 features\n",
    "Improved: L2, L6 <br>\n",
    "Reduced: L1, L3, L4, L5"
   ]
  },
  {
   "cell_type": "code",
   "execution_count": null,
   "id": "isolated-ranch",
   "metadata": {},
   "outputs": [],
   "source": [
    "impt_arr = impt_df[impt_df[\"impt\"] >= 0.0150][\"feature\"].to_numpy()\n",
    "X_train_new, X_test_new = feature_filter(X_train, X_test, impt_arr)\n",
    "prediction_new = clf.fit(X_train_new, y_train).predict(X_test_new)\n",
    "result_df_new = trans_result(y_test,prediction_new)\n",
    "result_df_new"
   ]
  },
  {
   "cell_type": "markdown",
   "id": "completed-serial",
   "metadata": {},
   "source": [
    "### Importance >= 0.0175 , 9 features\n",
    "Imroved: L4, L5"
   ]
  },
  {
   "cell_type": "code",
   "execution_count": null,
   "id": "funded-involvement",
   "metadata": {},
   "outputs": [],
   "source": [
    "impt_arr = impt_df[impt_df[\"impt\"] >= 0.0175][\"feature\"].to_numpy()\n",
    "X_train_new, X_test_new = feature_filter(X_train, X_test, impt_arr)\n",
    "prediction_new = clf.fit(X_train_new, y_train).predict(X_test_new)\n",
    "result_df_new = trans_result(y_test,prediction_new)\n",
    "result_df_new"
   ]
  },
  {
   "cell_type": "markdown",
   "id": "sonic-resolution",
   "metadata": {},
   "source": [
    "## Show details of `label classifiers`"
   ]
  },
  {
   "cell_type": "code",
   "execution_count": null,
   "id": "palestinian-mapping",
   "metadata": {},
   "outputs": [],
   "source": [
    "clf.unique_combinations_"
   ]
  },
  {
   "cell_type": "code",
   "execution_count": null,
   "id": "infinite-forty",
   "metadata": {},
   "outputs": [],
   "source": [
    "len(impt_df[impt_df[\"impt\"] >= 0.0150])"
   ]
  },
  {
   "cell_type": "code",
   "execution_count": null,
   "id": "requested-nickel",
   "metadata": {},
   "outputs": [],
   "source": [
    "len(impt_df[impt_df[\"impt\"] >= 0.0175])"
   ]
  }
 ],
 "metadata": {
  "kernelspec": {
   "display_name": "Python 3",
   "language": "python",
   "name": "python3"
  },
  "language_info": {
   "codemirror_mode": {
    "name": "ipython",
    "version": 3
   },
   "file_extension": ".py",
   "mimetype": "text/x-python",
   "name": "python",
   "nbconvert_exporter": "python",
   "pygments_lexer": "ipython3",
   "version": "3.8.2"
  }
 },
 "nbformat": 4,
 "nbformat_minor": 5
}
