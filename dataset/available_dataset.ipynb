{
 "cells": [
  {
   "cell_type": "code",
   "execution_count": 7,
   "id": "aboriginal-limitation",
   "metadata": {},
   "outputs": [],
   "source": [
    "import numpy as np\n",
    "import pandas as pd\n",
    "from skmultilearn.dataset import available_data_sets\n",
    "from skmultilearn.dataset import load_dataset"
   ]
  },
  {
   "cell_type": "code",
   "execution_count": 30,
   "id": "accessible-drive",
   "metadata": {},
   "outputs": [],
   "source": [
    "available_list = set([x[0] for x in available_data_sets().keys()])"
   ]
  },
  {
   "cell_type": "code",
   "execution_count": 15,
   "id": "casual-cyprus",
   "metadata": {},
   "outputs": [
    {
     "name": "stdout",
     "output_type": "stream",
     "text": [
      "emotions:train - exists, not redownloading\n"
     ]
    }
   ],
   "source": [
    "X_train, y_train, feature_names, label_names =  load_dataset('emotions','train')"
   ]
  },
  {
   "cell_type": "code",
   "execution_count": 20,
   "id": "surface-record",
   "metadata": {},
   "outputs": [
    {
     "name": "stdout",
     "output_type": "stream",
     "text": [
      "(391, 72) (391, 6) 72 6\n"
     ]
    }
   ],
   "source": [
    "print(X_train.shape,y_train.shape, len(feature_names), len(label_names) )"
   ]
  },
  {
   "cell_type": "code",
   "execution_count": 37,
   "id": "suspected-gothic",
   "metadata": {},
   "outputs": [
    {
     "name": "stdout",
     "output_type": "stream",
     "text": [
      "rcv1subset3:train - exists, not redownloading\n",
      "rcv1subset3:test - exists, not redownloading\n",
      "enron:train - exists, not redownloading\n",
      "enron:test - exists, not redownloading\n",
      "yeast:train - exists, not redownloading\n",
      "yeast:test - exists, not redownloading\n",
      "mediamill:train - exists, not redownloading\n",
      "mediamill:test - exists, not redownloading\n",
      "scene:train - exists, not redownloading\n",
      "scene:test - exists, not redownloading\n",
      "birds:train - exists, not redownloading\n",
      "birds:test - exists, not redownloading\n",
      "medical:train - exists, not redownloading\n",
      "medical:test - exists, not redownloading\n",
      "Corel5k:train - exists, not redownloading\n",
      "Corel5k:test - exists, not redownloading\n",
      "rcv1subset5:train - exists, not redownloading\n",
      "rcv1subset5:test - exists, not redownloading\n",
      "emotions:train - exists, not redownloading\n",
      "emotions:test - exists, not redownloading\n",
      "tmc2007_500:train - exists, not redownloading\n",
      "tmc2007_500:test - exists, not redownloading\n",
      "delicious:train - exists, not redownloading\n",
      "delicious:test - exists, not redownloading\n",
      "rcv1subset2:train - exists, not redownloading\n",
      "rcv1subset2:test - exists, not redownloading\n",
      "rcv1subset1:train - exists, not redownloading\n",
      "rcv1subset1:test - exists, not redownloading\n",
      "rcv1subset4:train - exists, not redownloading\n",
      "rcv1subset4:test - exists, not redownloading\n",
      "genbase:train - exists, not redownloading\n",
      "genbase:test - exists, not redownloading\n",
      "bibtex:train - exists, not redownloading\n",
      "bibtex:test - exists, not redownloading\n"
     ]
    }
   ],
   "source": [
    "z=[]\n",
    "for item in available_list:\n",
    "    X_train, y_train, feature_names_trian, label_names_train =  load_dataset(item,'train')\n",
    "    X_test, y_test, feature_names_test, label_names_test =  load_dataset(item,'test')\n",
    "    z.append({\"name\": item, \"features_num\": len(feature_names_trian), \"labels_num\": len(label_names_train),\n",
    "              \"instances_train\": X_train.shape[0], \"instances_test\": X_test.shape[0]})"
   ]
  },
  {
   "cell_type": "code",
   "execution_count": 43,
   "id": "effective-opening",
   "metadata": {},
   "outputs": [],
   "source": [
    "pd.DataFrame(z).sort_values(by=['name'], ascending = True).reset_index(drop=True).to_csv(\"available_data.csv\")"
   ]
  },
  {
   "cell_type": "code",
   "execution_count": null,
   "id": "friendly-groove",
   "metadata": {},
   "outputs": [],
   "source": []
  }
 ],
 "metadata": {
  "kernelspec": {
   "display_name": "Python 3",
   "language": "python",
   "name": "python3"
  },
  "language_info": {
   "codemirror_mode": {
    "name": "ipython",
    "version": 3
   },
   "file_extension": ".py",
   "mimetype": "text/x-python",
   "name": "python",
   "nbconvert_exporter": "python",
   "pygments_lexer": "ipython3",
   "version": "3.8.2"
  }
 },
 "nbformat": 4,
 "nbformat_minor": 5
}
