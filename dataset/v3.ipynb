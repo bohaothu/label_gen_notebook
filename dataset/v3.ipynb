{
 "cells": [
  {
   "cell_type": "code",
   "execution_count": 1,
   "id": "stuffed-prevention",
   "metadata": {},
   "outputs": [],
   "source": [
    "import numpy as np\n",
    "import pandas as pd\n",
    "import os\n",
    "import pickle\n",
    "import uuid\n",
    "from sklearn.manifold import TSNE"
   ]
  },
  {
   "cell_type": "code",
   "execution_count": 2,
   "id": "featured-sympathy",
   "metadata": {},
   "outputs": [],
   "source": [
    "dataset_directory=os.path.join(\"..\",\"api\",\"dataset\",\"v2\")\n",
    "output_directory=os.path.join(\"..\",\"api\",\"dataset\",\"v3\")"
   ]
  },
  {
   "cell_type": "code",
   "execution_count": 5,
   "id": "f10c3f2c",
   "metadata": {},
   "outputs": [],
   "source": [
    "def shortid(num):\n",
    "    return [str(uuid.uuid4())[:8] for i in range(num)]\n",
    "def label_encode(string):\n",
    "    return string.replace(\"\\\\'\",\".\").replace(\" \",\"_\")"
   ]
  },
  {
   "cell_type": "code",
   "execution_count": 4,
   "id": "loose-effect",
   "metadata": {},
   "outputs": [],
   "source": [
    "with open(os.path.join(dataset_directory, \"birds\",'train.pickle'), 'rb') as f:\n",
    "    X_train, y_train, feature_names, label_names = pickle.load(f)"
   ]
  },
  {
   "cell_type": "code",
   "execution_count": 5,
   "id": "ce715b5f",
   "metadata": {},
   "outputs": [],
   "source": [
    "index=shortid(X_train.shape[0])\n",
    "X_train=pd.DataFrame(X_train.todense(),columns=[feature_names[x][0] for x in range(X_train.shape[1])],index=index)\n",
    "X_train[\"id\"]=index\n",
    "X_train.to_pickle(os.path.join(output_directory,\"birds\",\"train\",\"feature.pkl\"))\n",
    "\n",
    "y_train=pd.DataFrame(y_train.todense(),columns=[label_encode(label_names[x][0]) for x in range(y_train.shape[1])],index=index)\n",
    "y_train[\"id\"]=index\n",
    "y_train.to_pickle(os.path.join(output_directory,\"birds\",\"train\",\"label.pkl\"))"
   ]
  },
  {
   "cell_type": "code",
   "execution_count": 6,
   "id": "average-extraction",
   "metadata": {},
   "outputs": [
    {
     "name": "stderr",
     "output_type": "stream",
     "text": [
      "/Users/phlin/Library/Python/3.8/lib/python/site-packages/sklearn/manifold/_t_sne.py:780: FutureWarning: The default initialization in TSNE will change from 'random' to 'pca' in 1.2.\n",
      "  warnings.warn(\n",
      "/Users/phlin/Library/Python/3.8/lib/python/site-packages/sklearn/manifold/_t_sne.py:790: FutureWarning: The default learning rate in TSNE will change from 200.0 to 'auto' in 1.2.\n",
      "  warnings.warn(\n"
     ]
    }
   ],
   "source": [
    "t_sne = TSNE()\n",
    "t_sne.fit(X_train.drop(\"id\",axis=1))\n",
    "t_sne_df = pd.DataFrame(t_sne.embedding_, columns=[\"x\",\"y\"], index=index)\n",
    "t_sne_df[\"id\"]=index\n",
    "t_sne_df.to_pickle(os.path.join(output_directory,\"birds\",\"train\",\"tsne_feature.pkl\"))\n",
    "\n",
    "t_sne = TSNE()\n",
    "t_sne.fit(y_train.drop(\"id\",axis=1))\n",
    "t_sne_df = pd.DataFrame(t_sne.embedding_, columns=[\"x\",\"y\"], index=index)\n",
    "t_sne_df[\"id\"]=index\n",
    "t_sne_df.to_pickle(os.path.join(output_directory,\"birds\",\"train\",\"tsne_label.pkl\"))"
   ]
  },
  {
   "cell_type": "code",
   "execution_count": 29,
   "id": "ec7ff2f1",
   "metadata": {},
   "outputs": [
    {
     "data": {
      "text/plain": [
       "(322, 260)"
      ]
     },
     "execution_count": 29,
     "metadata": {},
     "output_type": "execute_result"
    }
   ],
   "source": [
    "X_train.drop(\"id\",axis=1).shape # num of data, num of features"
   ]
  },
  {
   "cell_type": "code",
   "execution_count": 30,
   "id": "3e8b757c",
   "metadata": {},
   "outputs": [
    {
     "data": {
      "text/plain": [
       "(322, 19)"
      ]
     },
     "execution_count": 30,
     "metadata": {},
     "output_type": "execute_result"
    }
   ],
   "source": [
    "y_train.drop(\"id\",axis=1).shape # num of data, num of labels"
   ]
  },
  {
   "cell_type": "code",
   "execution_count": 15,
   "id": "cb21b8d3",
   "metadata": {},
   "outputs": [],
   "source": [
    "pd.DataFrame([{\"name\": \"birds\", \"domain\": \"audio\", \"instances\": X_train.drop(\"id\",axis=1).shape[0], \"labels\": y_train.drop(\"id\",axis=1).shape[1],\n",
    "              \"features\": X_train.drop(\"id\",axis=1).shape[1]}]).to_pickle(os.path.join(output_directory,\"available.pkl\"))"
   ]
  },
  {
   "cell_type": "code",
   "execution_count": 10,
   "id": "3a5946a7",
   "metadata": {},
   "outputs": [],
   "source": [
    "attribute=pd.DataFrame(feature_names,columns=[\"attribute\",\"type\"])\n",
    "attribute[\"type\"]=attribute[\"type\"].apply(lambda x: \"numeric\" if x == \"NUMERIC\" else \"nominal\")\n",
    "attribute.to_pickle(os.path.join(output_directory,\"birds\",\"attribute.pkl\"))"
   ]
  },
  {
   "cell_type": "code",
   "execution_count": 20,
   "id": "a587c6d1",
   "metadata": {},
   "outputs": [],
   "source": [
    "pd.Series(map(lambda x: x[0],label_names)).apply(lambda x: label_encode(x)).to_pickle(os.path.join(output_directory,\"birds\",\"labels.pkl\"))"
   ]
  },
  {
   "cell_type": "code",
   "execution_count": 40,
   "id": "25e2aa74",
   "metadata": {},
   "outputs": [
    {
     "data": {
      "text/plain": [
       "'{\"03e9467e\":2,\"f0f1dd56\":0,\"7be96912\":1,\"fce2a4fd\":0,\"75fc09f9\":0,\"c6e6798a\":0,\"8be5880d\":2,\"dc9f517b\":0,\"f0305e2c\":0,\"c89ea271\":0,\"17d7eac5\":1,\"0f747ef5\":1,\"42e0873e\":2,\"2f3ad96f\":0,\"1115fc94\":0,\"0189a545\":1,\"ab92e77c\":0,\"b3bf5f30\":1,\"dd5650c8\":0,\"44dc157e\":1,\"033bf735\":2,\"528f20eb\":2,\"a087e8c7\":3,\"71548f84\":2,\"5e519ef6\":0,\"8d949ee3\":1,\"8a4c4747\":0,\"94628b0e\":0,\"20ec9e67\":1,\"4e2cd74e\":1,\"d6b1b041\":1,\"58701f90\":0,\"49b574f1\":0,\"88c16678\":1,\"5120ca55\":0,\"a83bf0c8\":3,\"7fad416e\":1,\"f0baa825\":0,\"c81d2c01\":0,\"ad72d873\":2,\"0798768f\":1,\"49cabec2\":0,\"132fba18\":0,\"1467d5d7\":0,\"bb7da2dd\":2,\"6cfb9955\":2,\"e76eddd3\":1,\"61fde72a\":2,\"f8178e9b\":2,\"5a8c85c9\":0,\"efdcf3c4\":3,\"a0825560\":0,\"18e0e657\":2,\"b6c158f9\":1,\"a20496a3\":2,\"22aa92c2\":0,\"f87d61dd\":0,\"ccdbdb18\":1,\"54f3be36\":2,\"d904faec\":1,\"36d5c5ed\":0,\"a9b08b27\":0,\"8a133d3e\":0,\"3718c4e3\":3,\"77a30f61\":0,\"4790a399\":1,\"c82a814a\":3,\"61b5634f\":0,\"360fa278\":0,\"18255ef8\":1,\"a2358e8f\":0,\"23e44b30\":0,\"f9136dcf\":0,\"bdff3917\":0,\"6d0782b6\":3,\"7122a0fb\":3,\"c7e3fb9a\":0,\"595c8a36\":0,\"6d747dda\":0,\"d970d775\":3,\"b0d50104\":3,\"e423f492\":3,\"dd9f427f\":1,\"09d388a1\":3,\"2223fc87\":1,\"925cd1e7\":3,\"d13c54c4\":1,\"d593f6b3\":2,\"5b8c2dd6\":1,\"5b9102a4\":2,\"680d4146\":2,\"2a7f90d9\":1,\"22cef6a3\":3,\"bb9ba04b\":1,\"6cda079e\":1,\"f078bdcd\":0,\"7b689fd2\":6,\"f68d7ed1\":1,\"816152fd\":3,\"a8bf9c1a\":2,\"089e6f04\":1,\"82ea5c6c\":1,\"76ac5720\":1,\"a9ed20b5\":2,\"535d1721\":2,\"ed50008c\":0,\"5ca296c0\":1,\"90676095\":0,\"0d217719\":2,\"da2d1faa\":4,\"4a16b6ce\":3,\"dc55634f\":0,\"180506f5\":0,\"a9413535\":0,\"8a46e5db\":0,\"d3875d5e\":2,\"1c52a8de\":0,\"df6fe321\":1,\"509a9892\":0,\"28397859\":0,\"dc45b97f\":3,\"39f6acf8\":3,\"e5032a61\":0,\"5d296841\":0,\"77506dce\":1,\"975ce79e\":2,\"4d25d4b2\":2,\"cd3a2352\":0,\"f9a30616\":0,\"d3f39b17\":0,\"b3a7adde\":0,\"bc478b95\":1,\"c11c9ad7\":0,\"c0bf4c44\":2,\"7831364d\":0,\"4356b88c\":2,\"ca07edc9\":0,\"3b9ea869\":0,\"b2c8bbfb\":2,\"6b99b3e7\":1,\"ecf19615\":0,\"d1fc3cd0\":3,\"f7256067\":0,\"d2841f22\":0,\"3d1f01c5\":0,\"262c20a6\":0,\"b04fcfae\":0,\"0779dfa0\":0,\"3a9565f9\":2,\"b884a6f9\":1,\"b937efdf\":3,\"fb7dafa4\":1,\"70f6beea\":0,\"86e1b4c1\":0,\"2258dd42\":0,\"a6295f43\":3,\"1a3236e9\":2,\"7e61c063\":0,\"e5f065a2\":2,\"06bf1a7a\":1,\"3170ec39\":1,\"b8f9ba3e\":2,\"de01f6f7\":1,\"5494401c\":2,\"f0380aaa\":2,\"1d73446d\":0,\"7eda54a5\":5,\"036625c6\":1,\"4e810cdd\":2,\"fb60af45\":1,\"ab55949d\":0,\"79ac28c3\":3,\"6acdd863\":0,\"ee4086eb\":0,\"0c6eea58\":1,\"1e19b488\":3,\"e3b00f62\":0,\"bfd27f6a\":1,\"8f906f6b\":0,\"30c25c8d\":0,\"0e5e1e34\":4,\"41f7635d\":0,\"12b13bc9\":0,\"2d884d24\":2,\"7bccc493\":0,\"ac81189b\":0,\"ca5c1e1e\":2,\"4a533ae4\":3,\"3aa7e01e\":0,\"ef52868b\":1,\"846c3380\":1,\"a59094d9\":0,\"d591f6d0\":0,\"12d1c499\":0,\"b61b4111\":0,\"1812cab4\":1,\"6a01dffd\":1,\"42b4ecd5\":1,\"b4db3b98\":0,\"ddaf435b\":2,\"e93cc1a3\":0,\"7875cb07\":2,\"46ca2df6\":1,\"127534ad\":0,\"fb4a3950\":3,\"2a6c9c78\":0,\"021e1ced\":2,\"8a026c69\":3,\"f3a381d1\":1,\"0c727246\":0,\"4e6fc2fb\":1,\"ef1b42f0\":0,\"66f08453\":2,\"3783df47\":1,\"6bd0d2fd\":0,\"b4fa8561\":0,\"d322f096\":2,\"c08659ba\":4,\"8127447f\":1,\"6ed90355\":0,\"1711d107\":1,\"c1aa7777\":0,\"96e7f613\":3,\"7da667e3\":1,\"df6ce171\":0,\"90ad1a3a\":3,\"914245e3\":1,\"29eb8bc9\":1,\"f628c43e\":0,\"6ab50e96\":1,\"741fbb7e\":0,\"629f8486\":0,\"145b4ab1\":0,\"cbff920a\":4,\"033ecf08\":1,\"699fa562\":4,\"a6d0cc84\":0,\"df887908\":0,\"aa44ea64\":0,\"e22e3996\":1,\"bd8a8cc0\":2,\"403eb765\":2,\"11b4f063\":0,\"78e246c1\":0,\"19c2180a\":1,\"f85779f8\":2,\"bb3c3cf3\":0,\"ae5560b6\":0,\"637a1d5c\":2,\"e6b93a47\":0,\"c6a35bc9\":2,\"5ec6d553\":1,\"15e6c268\":1,\"7c6be84a\":4,\"97e14ee3\":1,\"68ae45f3\":1,\"49ea68cf\":1,\"f4a77253\":0,\"4017bd27\":1,\"22ae8c11\":4,\"b0091595\":1,\"5a5afe11\":1,\"d6d974a2\":0,\"6ef3be47\":0,\"abf55ae3\":1,\"e97e24d7\":2,\"4abb7b0b\":1,\"b3f0cbde\":0,\"66b762de\":0,\"9446f5ea\":0,\"12593e15\":0,\"42f085f3\":4,\"ee6cc7b7\":2,\"869f7f85\":0,\"67859df6\":0,\"e1861e80\":0,\"20eee248\":0,\"838c9b40\":3,\"c990ca9f\":0,\"60ce69d1\":1,\"5387c86c\":0,\"5e569ad2\":0,\"11ceeee9\":0,\"177d78ce\":1,\"eec0d453\":2,\"1211738d\":3,\"8bb75fe0\":1,\"74f72308\":3,\"7c3dabaf\":0,\"76d99f86\":0,\"07cd5ad8\":4,\"9d3ee473\":0,\"66692f77\":0,\"7f0c11f1\":0,\"35f0208f\":0,\"80af739c\":0,\"1a70c179\":0,\"f8491760\":0,\"fa93896e\":1,\"4705fb52\":0,\"c2c93bdb\":0,\"b9f4aa33\":0,\"7ddaf433\":1,\"8767c90c\":0,\"2428edfa\":0,\"5e1d7825\":0,\"32194ecb\":0,\"8c688492\":4,\"1e1d4597\":1,\"1ddc96ce\":1,\"69b2e391\":0,\"dde711cb\":5,\"b0c60b65\":1,\"175c3d03\":0,\"8e289101\":3,\"bf8aa87d\":3,\"4ae75b69\":3,\"e3c05309\":0,\"cd1ca87f\":1,\"5414c3cc\":1,\"66d29bd5\":4,\"03153282\":2}'"
      ]
     },
     "execution_count": 40,
     "metadata": {},
     "output_type": "execute_result"
    }
   ],
   "source": [
    "y_train.drop(\"id\",axis=1).sum(axis=1).to_json(orient=\"index\")"
   ]
  },
  {
   "cell_type": "code",
   "execution_count": 39,
   "id": "295f9633",
   "metadata": {},
   "outputs": [
    {
     "ename": "TypeError",
     "evalue": "to_dict() got an unexpected keyword argument 'orient'",
     "output_type": "error",
     "traceback": [
      "\u001b[0;31m---------------------------------------------------------------------------\u001b[0m",
      "\u001b[0;31mTypeError\u001b[0m                                 Traceback (most recent call last)",
      "\u001b[0;32m/var/folders/6j/y63_s3xx70d75p8xvcwscj1c0000gn/T/ipykernel_27866/4258155793.py\u001b[0m in \u001b[0;36m<module>\u001b[0;34m\u001b[0m\n\u001b[0;32m----> 1\u001b[0;31m \u001b[0my_train\u001b[0m\u001b[0;34m.\u001b[0m\u001b[0mdrop\u001b[0m\u001b[0;34m(\u001b[0m\u001b[0;34m\"id\"\u001b[0m\u001b[0;34m,\u001b[0m\u001b[0maxis\u001b[0m\u001b[0;34m=\u001b[0m\u001b[0;36m1\u001b[0m\u001b[0;34m)\u001b[0m\u001b[0;34m.\u001b[0m\u001b[0msum\u001b[0m\u001b[0;34m(\u001b[0m\u001b[0maxis\u001b[0m\u001b[0;34m=\u001b[0m\u001b[0;36m0\u001b[0m\u001b[0;34m)\u001b[0m\u001b[0;34m.\u001b[0m\u001b[0mto_dict\u001b[0m\u001b[0;34m(\u001b[0m\u001b[0morient\u001b[0m\u001b[0;34m=\u001b[0m\u001b[0;34m\"index\"\u001b[0m\u001b[0;34m)\u001b[0m\u001b[0;34m\u001b[0m\u001b[0;34m\u001b[0m\u001b[0m\n\u001b[0m",
      "\u001b[0;31mTypeError\u001b[0m: to_dict() got an unexpected keyword argument 'orient'"
     ]
    }
   ],
   "source": [
    "y_train.drop(\"id\",axis=1).sum(axis=0).to_json(orient=\"index\")"
   ]
  },
  {
   "cell_type": "code",
   "execution_count": 3,
   "id": "062c53b2",
   "metadata": {},
   "outputs": [],
   "source": [
    "with open(os.path.join(dataset_directory, \"birds\",'test.pickle'), 'rb') as f:\n",
    "    X_test, y_test, feature_names, label_names = pickle.load(f)"
   ]
  },
  {
   "cell_type": "code",
   "execution_count": 6,
   "id": "ad6d888e",
   "metadata": {},
   "outputs": [],
   "source": [
    "index=shortid(X_test.shape[0])\n",
    "X_test=pd.DataFrame(X_test.todense(),columns=[feature_names[x][0] for x in range(X_test.shape[1])],index=index)\n",
    "X_test[\"id\"]=index\n",
    "X_test.to_pickle(os.path.join(output_directory,\"birds\",\"test\",\"feature.pkl\"))\n",
    "\n",
    "y_test=pd.DataFrame(y_test.todense(),columns=[label_encode(label_names[x][0]) for x in range(y_test.shape[1])],index=index)\n",
    "y_test[\"id\"]=index\n",
    "y_test.to_pickle(os.path.join(output_directory,\"birds\",\"test\",\"label.pkl\"))"
   ]
  },
  {
   "cell_type": "code",
   "execution_count": 7,
   "id": "331313e2",
   "metadata": {},
   "outputs": [
    {
     "name": "stderr",
     "output_type": "stream",
     "text": [
      "/Users/phlin/Library/Python/3.8/lib/python/site-packages/sklearn/manifold/_t_sne.py:780: FutureWarning: The default initialization in TSNE will change from 'random' to 'pca' in 1.2.\n",
      "  warnings.warn(\n",
      "/Users/phlin/Library/Python/3.8/lib/python/site-packages/sklearn/manifold/_t_sne.py:790: FutureWarning: The default learning rate in TSNE will change from 200.0 to 'auto' in 1.2.\n",
      "  warnings.warn(\n",
      "/Users/phlin/Library/Python/3.8/lib/python/site-packages/sklearn/manifold/_t_sne.py:780: FutureWarning: The default initialization in TSNE will change from 'random' to 'pca' in 1.2.\n",
      "  warnings.warn(\n",
      "/Users/phlin/Library/Python/3.8/lib/python/site-packages/sklearn/manifold/_t_sne.py:790: FutureWarning: The default learning rate in TSNE will change from 200.0 to 'auto' in 1.2.\n",
      "  warnings.warn(\n"
     ]
    }
   ],
   "source": [
    "t_sne = TSNE()\n",
    "t_sne.fit(X_test.drop(\"id\",axis=1))\n",
    "t_sne_df = pd.DataFrame(t_sne.embedding_, columns=[\"x\",\"y\"], index=index)\n",
    "t_sne_df[\"id\"]=index\n",
    "t_sne_df.to_pickle(os.path.join(output_directory,\"birds\",\"test\",\"tsne_feature.pkl\"))\n",
    "\n",
    "t_sne = TSNE()\n",
    "t_sne.fit(y_test.drop(\"id\",axis=1))\n",
    "t_sne_df = pd.DataFrame(t_sne.embedding_, columns=[\"x\",\"y\"], index=index)\n",
    "t_sne_df[\"id\"]=index\n",
    "t_sne_df.to_pickle(os.path.join(output_directory,\"birds\",\"test\",\"tsne_label.pkl\"))"
   ]
  },
  {
   "cell_type": "code",
   "execution_count": null,
   "id": "48b7c5c1",
   "metadata": {},
   "outputs": [],
   "source": []
  }
 ],
 "metadata": {
  "kernelspec": {
   "display_name": "Python 3 (ipykernel)",
   "language": "python",
   "name": "python3"
  },
  "language_info": {
   "codemirror_mode": {
    "name": "ipython",
    "version": 3
   },
   "file_extension": ".py",
   "mimetype": "text/x-python",
   "name": "python",
   "nbconvert_exporter": "python",
   "pygments_lexer": "ipython3",
   "version": "3.8.9"
  }
 },
 "nbformat": 4,
 "nbformat_minor": 5
}
