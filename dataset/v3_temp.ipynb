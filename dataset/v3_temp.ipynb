{
 "cells": [
  {
   "cell_type": "code",
   "execution_count": 1,
   "id": "ab1c8949",
   "metadata": {},
   "outputs": [],
   "source": [
    "import numpy as np\n",
    "import pandas as pd\n",
    "import os\n",
    "import pickle\n",
    "import uuid"
   ]
  },
  {
   "cell_type": "code",
   "execution_count": 2,
   "id": "d843ef88",
   "metadata": {},
   "outputs": [],
   "source": [
    "dataset_directory=os.path.join(\"..\",\"api\",\"dataset\",\"v2\")\n",
    "output_directory=os.path.join(\"..\",\"api\",\"dataset\",\"v3\")"
   ]
  },
  {
   "cell_type": "code",
   "execution_count": 3,
   "id": "98283918",
   "metadata": {},
   "outputs": [],
   "source": [
    "def shortid(num):\n",
    "    return [str(uuid.uuid4())[:8] for i in range(num)]\n",
    "def label_encode(string):\n",
    "    return string.replace(\"\\\\'\",\".\").replace(\" \",\"_\")"
   ]
  },
  {
   "cell_type": "code",
   "execution_count": 4,
   "id": "7945a99b",
   "metadata": {},
   "outputs": [],
   "source": [
    "with open(os.path.join(dataset_directory, \"birds\",'train.pickle'), 'rb') as f:\n",
    "    X_train, y_train, feature_names, label_names = pickle.load(f)\n",
    "\n",
    "with open(os.path.join(dataset_directory, \"birds\",'test.pickle'), 'rb') as f:\n",
    "    X_test, y_test, _, _ = pickle.load(f)"
   ]
  },
  {
   "cell_type": "code",
   "execution_count": 9,
   "id": "67826740",
   "metadata": {},
   "outputs": [],
   "source": [
    "avail = [{\"name\": \"birds\", \"domain\": \"audio\", \"instances\": X_train.shape[0],\n",
    "  \"labels\": y_train.shape[1],\"features\": X_train.shape[1]},\n",
    "{\"name\": \"birds_test\", \"domain\": \"audio\", \"instances\": X_test.shape[0],\n",
    "  \"labels\": y_test.shape[1],\"features\": X_test.shape[1]}]\n",
    "pd.DataFrame(avail).to_pickle(os.path.join(output_directory,\"available.pkl\"))"
   ]
  },
  {
   "cell_type": "code",
   "execution_count": 7,
   "id": "2fc0b42b",
   "metadata": {},
   "outputs": [],
   "source": [
    "attribute=pd.DataFrame(feature_names,columns=[\"attribute\",\"type\"])\n",
    "attribute[\"type\"]=attribute[\"type\"].apply(lambda x: \"numeric\" if x == \"NUMERIC\" else \"nominal\")\n",
    "attribute.to_pickle(os.path.join(output_directory,\"birds_test\",\"attribute.pkl\"))"
   ]
  },
  {
   "cell_type": "code",
   "execution_count": 10,
   "id": "9be5f41c",
   "metadata": {},
   "outputs": [
    {
     "data": {
      "text/html": [
       "<div>\n",
       "<style scoped>\n",
       "    .dataframe tbody tr th:only-of-type {\n",
       "        vertical-align: middle;\n",
       "    }\n",
       "\n",
       "    .dataframe tbody tr th {\n",
       "        vertical-align: top;\n",
       "    }\n",
       "\n",
       "    .dataframe thead th {\n",
       "        text-align: right;\n",
       "    }\n",
       "</style>\n",
       "<table border=\"1\" class=\"dataframe\">\n",
       "  <thead>\n",
       "    <tr style=\"text-align: right;\">\n",
       "      <th></th>\n",
       "      <th>name</th>\n",
       "      <th>domain</th>\n",
       "      <th>instances</th>\n",
       "      <th>labels</th>\n",
       "      <th>features</th>\n",
       "    </tr>\n",
       "  </thead>\n",
       "  <tbody>\n",
       "    <tr>\n",
       "      <th>0</th>\n",
       "      <td>birds</td>\n",
       "      <td>audio</td>\n",
       "      <td>322</td>\n",
       "      <td>19</td>\n",
       "      <td>260</td>\n",
       "    </tr>\n",
       "    <tr>\n",
       "      <th>1</th>\n",
       "      <td>birds_test</td>\n",
       "      <td>audio</td>\n",
       "      <td>323</td>\n",
       "      <td>19</td>\n",
       "      <td>260</td>\n",
       "    </tr>\n",
       "  </tbody>\n",
       "</table>\n",
       "</div>"
      ],
      "text/plain": [
       "         name domain  instances  labels  features\n",
       "0       birds  audio        322      19       260\n",
       "1  birds_test  audio        323      19       260"
      ]
     },
     "execution_count": 10,
     "metadata": {},
     "output_type": "execute_result"
    }
   ],
   "source": [
    "pd.DataFrame(avail)"
   ]
  },
  {
   "cell_type": "code",
   "execution_count": null,
   "id": "e52fce19",
   "metadata": {},
   "outputs": [],
   "source": []
  }
 ],
 "metadata": {
  "kernelspec": {
   "display_name": "Python 3 (ipykernel)",
   "language": "python",
   "name": "python3"
  },
  "language_info": {
   "codemirror_mode": {
    "name": "ipython",
    "version": 3
   },
   "file_extension": ".py",
   "mimetype": "text/x-python",
   "name": "python",
   "nbconvert_exporter": "python",
   "pygments_lexer": "ipython3",
   "version": "3.8.9"
  }
 },
 "nbformat": 4,
 "nbformat_minor": 5
}
